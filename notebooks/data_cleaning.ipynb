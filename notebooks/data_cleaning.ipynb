{
 "cells": [
  {
   "cell_type": "code",
   "execution_count": 2,
   "metadata": {},
   "outputs": [
    {
     "name": "stderr",
     "output_type": "stream",
     "text": [
      "/tmp/ipykernel_59687/2145082868.py:8: DtypeWarning: Columns (1) have mixed types. Specify dtype option on import or set low_memory=False.\n",
      "  raw = pd.read_csv('../data/chembl_tcruzi_percenteffect.csv',sep = ';').clean_names()\n"
     ]
    }
   ],
   "source": [
    "import pandas as pd\n",
    "import janitor\n",
    "from rdkit import Chem\n",
    "from rdkit.Chem import AllChem\n",
    "from rdkit.Chem.Draw import IPythonConsole\n",
    "import numpy as np"
   ]
  },
  {
   "cell_type": "code",
   "execution_count": 3,
   "metadata": {},
   "outputs": [],
   "source": [
    "raw = pd.read_csv('../data/chembl_tcruzi_percenteffect.csv',sep = ';', low_memory=False).clean_names()"
   ]
  },
  {
   "cell_type": "code",
   "execution_count": 49,
   "metadata": {},
   "outputs": [],
   "source": [
    "filtered_sm = raw[['smiles','standard_value']].copy().dropna().reset_index(drop = True)\n",
    "def smiles_to_fp(smiles, radius = 2, fpSize = 2048):\n",
    "    mol = Chem.MolFromSmiles(smiles)\n",
    "    generator = Chem.rdFingerprintGenerator.GetMorganGenerator(radius = 2, fpSize = fpSize)\n",
    "    fp = generator.GetFingerprint(mol)\n",
    "    return np.array(fp)\n",
    "\n",
    "def prune_fps(fp_arr):\n",
    "    \"\"\"\n",
    "    remove superfluous bits from fingerprints (if identical in all samples)\n",
    "    \"\"\"\n",
    "    mask = np.all(fp_arr == fp_arr[0,:], axis = 0)\n",
    "    return fp_arr[:,~mask]\n",
    "\n",
    "filtered_sm['fp'] = filtered_sm.smiles.apply(lambda x: smiles_to_fp(x, fpSize= 1024))\n",
    "filtered_sm.to_feather('../data/fps_and_activities.feather')"
   ]
  },
  {
   "cell_type": "code",
   "execution_count": 50,
   "metadata": {},
   "outputs": [],
   "source": [
    "clean_set = pd.read_feather('../data/fps_and_activities.feather')"
   ]
  },
  {
   "cell_type": "code",
   "execution_count": 51,
   "metadata": {},
   "outputs": [
    {
     "data": {
      "text/html": [
       "<div>\n",
       "<style scoped>\n",
       "    .dataframe tbody tr th:only-of-type {\n",
       "        vertical-align: middle;\n",
       "    }\n",
       "\n",
       "    .dataframe tbody tr th {\n",
       "        vertical-align: top;\n",
       "    }\n",
       "\n",
       "    .dataframe thead th {\n",
       "        text-align: right;\n",
       "    }\n",
       "</style>\n",
       "<table border=\"1\" class=\"dataframe\">\n",
       "  <thead>\n",
       "    <tr style=\"text-align: right;\">\n",
       "      <th></th>\n",
       "      <th>smiles</th>\n",
       "      <th>standard_value</th>\n",
       "      <th>fp</th>\n",
       "    </tr>\n",
       "  </thead>\n",
       "  <tbody>\n",
       "    <tr>\n",
       "      <th>0</th>\n",
       "      <td>O=C(NCCc1ccccc1)NCCN1CCC(c2cccs2)CC1</td>\n",
       "      <td>-81.72</td>\n",
       "      <td>[0, 0, 0, 0, 0, 0, 0, 0, 0, 0, 0, 0, 0, 0, 1, ...</td>\n",
       "    </tr>\n",
       "    <tr>\n",
       "      <th>1</th>\n",
       "      <td>O=C(Nc1ccc2c(c1)OCCO2)N1CCCC1c1ccco1</td>\n",
       "      <td>-267.37</td>\n",
       "      <td>[0, 0, 0, 0, 1, 0, 0, 0, 0, 0, 0, 1, 0, 0, 0, ...</td>\n",
       "    </tr>\n",
       "    <tr>\n",
       "      <th>2</th>\n",
       "      <td>Cc1nc(NC(=O)c2c(-n3cnnn3)sc3c2CCC3)sc1C</td>\n",
       "      <td>-201.83</td>\n",
       "      <td>[0, 0, 0, 0, 1, 0, 0, 0, 0, 0, 0, 0, 0, 0, 0, ...</td>\n",
       "    </tr>\n",
       "    <tr>\n",
       "      <th>3</th>\n",
       "      <td>CC1=Nc2c(c(=O)[nH]n2C2CCCC2)C(c2cccnc2)S1</td>\n",
       "      <td>-158.05</td>\n",
       "      <td>[0, 0, 0, 0, 1, 0, 0, 0, 0, 0, 0, 0, 0, 0, 0, ...</td>\n",
       "    </tr>\n",
       "    <tr>\n",
       "      <th>4</th>\n",
       "      <td>Cc1cccc(CSc2ncc(Cl)c(C(=O)O)n2)c1</td>\n",
       "      <td>-152.02</td>\n",
       "      <td>[0, 0, 0, 0, 0, 0, 0, 0, 0, 0, 0, 0, 0, 0, 0, ...</td>\n",
       "    </tr>\n",
       "    <tr>\n",
       "      <th>...</th>\n",
       "      <td>...</td>\n",
       "      <td>...</td>\n",
       "      <td>...</td>\n",
       "    </tr>\n",
       "    <tr>\n",
       "      <th>72529</th>\n",
       "      <td>O=C(O)C(F)(F)F.O=C(O)C(F)(F)F.c1cc(CN2CCc3ncc(...</td>\n",
       "      <td>-138.40</td>\n",
       "      <td>[0, 0, 1, 0, 1, 0, 0, 0, 0, 0, 0, 0, 0, 0, 1, ...</td>\n",
       "    </tr>\n",
       "    <tr>\n",
       "      <th>72530</th>\n",
       "      <td>CS(=O)(=O)c1cccc(OCC(=O)N2CCCC2c2ccc[nH]2)c1</td>\n",
       "      <td>-164.37</td>\n",
       "      <td>[0, 0, 0, 0, 1, 0, 0, 0, 0, 0, 0, 0, 0, 0, 0, ...</td>\n",
       "    </tr>\n",
       "    <tr>\n",
       "      <th>72531</th>\n",
       "      <td>O=C(c1c[nH]c(=O)[nH]c1=O)N1CCCC(c2nccn2CC2CCC2)C1</td>\n",
       "      <td>-178.16</td>\n",
       "      <td>[0, 0, 0, 0, 1, 0, 0, 0, 0, 0, 0, 0, 0, 0, 0, ...</td>\n",
       "    </tr>\n",
       "    <tr>\n",
       "      <th>72532</th>\n",
       "      <td>OC1COCCN(Cc2cc(-c3ccccc3OC(F)(F)F)no2)C1</td>\n",
       "      <td>-175.77</td>\n",
       "      <td>[0, 0, 0, 0, 0, 0, 0, 0, 0, 0, 0, 0, 0, 0, 0, ...</td>\n",
       "    </tr>\n",
       "    <tr>\n",
       "      <th>72533</th>\n",
       "      <td>COCCO[C@H]1CCN(C(=O)NC2CC2)[C@H]1Cc1cnn(C)c1</td>\n",
       "      <td>-254.62</td>\n",
       "      <td>[0, 0, 0, 0, 0, 0, 0, 0, 0, 1, 0, 0, 0, 1, 0, ...</td>\n",
       "    </tr>\n",
       "  </tbody>\n",
       "</table>\n",
       "<p>72534 rows × 3 columns</p>\n",
       "</div>"
      ],
      "text/plain": [
       "                                                  smiles  standard_value  \\\n",
       "0                   O=C(NCCc1ccccc1)NCCN1CCC(c2cccs2)CC1          -81.72   \n",
       "1                   O=C(Nc1ccc2c(c1)OCCO2)N1CCCC1c1ccco1         -267.37   \n",
       "2                Cc1nc(NC(=O)c2c(-n3cnnn3)sc3c2CCC3)sc1C         -201.83   \n",
       "3              CC1=Nc2c(c(=O)[nH]n2C2CCCC2)C(c2cccnc2)S1         -158.05   \n",
       "4                      Cc1cccc(CSc2ncc(Cl)c(C(=O)O)n2)c1         -152.02   \n",
       "...                                                  ...             ...   \n",
       "72529  O=C(O)C(F)(F)F.O=C(O)C(F)(F)F.c1cc(CN2CCc3ncc(...         -138.40   \n",
       "72530       CS(=O)(=O)c1cccc(OCC(=O)N2CCCC2c2ccc[nH]2)c1         -164.37   \n",
       "72531  O=C(c1c[nH]c(=O)[nH]c1=O)N1CCCC(c2nccn2CC2CCC2)C1         -178.16   \n",
       "72532           OC1COCCN(Cc2cc(-c3ccccc3OC(F)(F)F)no2)C1         -175.77   \n",
       "72533       COCCO[C@H]1CCN(C(=O)NC2CC2)[C@H]1Cc1cnn(C)c1         -254.62   \n",
       "\n",
       "                                                      fp  \n",
       "0      [0, 0, 0, 0, 0, 0, 0, 0, 0, 0, 0, 0, 0, 0, 1, ...  \n",
       "1      [0, 0, 0, 0, 1, 0, 0, 0, 0, 0, 0, 1, 0, 0, 0, ...  \n",
       "2      [0, 0, 0, 0, 1, 0, 0, 0, 0, 0, 0, 0, 0, 0, 0, ...  \n",
       "3      [0, 0, 0, 0, 1, 0, 0, 0, 0, 0, 0, 0, 0, 0, 0, ...  \n",
       "4      [0, 0, 0, 0, 0, 0, 0, 0, 0, 0, 0, 0, 0, 0, 0, ...  \n",
       "...                                                  ...  \n",
       "72529  [0, 0, 1, 0, 1, 0, 0, 0, 0, 0, 0, 0, 0, 0, 1, ...  \n",
       "72530  [0, 0, 0, 0, 1, 0, 0, 0, 0, 0, 0, 0, 0, 0, 0, ...  \n",
       "72531  [0, 0, 0, 0, 1, 0, 0, 0, 0, 0, 0, 0, 0, 0, 0, ...  \n",
       "72532  [0, 0, 0, 0, 0, 0, 0, 0, 0, 0, 0, 0, 0, 0, 0, ...  \n",
       "72533  [0, 0, 0, 0, 0, 0, 0, 0, 0, 1, 0, 0, 0, 1, 0, ...  \n",
       "\n",
       "[72534 rows x 3 columns]"
      ]
     },
     "execution_count": 51,
     "metadata": {},
     "output_type": "execute_result"
    }
   ],
   "source": [
    "clean_set   "
   ]
  },
  {
   "cell_type": "code",
   "execution_count": null,
   "metadata": {},
   "outputs": [],
   "source": []
  }
 ],
 "metadata": {
  "kernelspec": {
   "display_name": "ml",
   "language": "python",
   "name": "python3"
  },
  "language_info": {
   "codemirror_mode": {
    "name": "ipython",
    "version": 3
   },
   "file_extension": ".py",
   "mimetype": "text/x-python",
   "name": "python",
   "nbconvert_exporter": "python",
   "pygments_lexer": "ipython3",
   "version": "3.12.5"
  }
 },
 "nbformat": 4,
 "nbformat_minor": 2
}
